{
 "cells": [
  {
   "cell_type": "code",
   "execution_count": 1,
   "id": "b6556974",
   "metadata": {
    "_cell_guid": "b1076dfc-b9ad-4769-8c92-a6c4dae69d19",
    "_uuid": "8f2839f25d086af736a60e9eeb907d3b93b6e0e5",
    "execution": {
     "iopub.execute_input": "2023-08-01T12:15:20.654493Z",
     "iopub.status.busy": "2023-08-01T12:15:20.654196Z",
     "iopub.status.idle": "2023-08-01T12:16:04.460445Z",
     "shell.execute_reply": "2023-08-01T12:16:04.459537Z"
    },
    "papermill": {
     "duration": 43.822854,
     "end_time": "2023-08-01T12:16:04.463295",
     "exception": false,
     "start_time": "2023-08-01T12:15:20.640441",
     "status": "completed"
    },
    "tags": []
   },
   "outputs": [
    {
     "name": "stderr",
     "output_type": "stream",
     "text": [
      "D0801 12:15:52.181900555      14 config.cc:119]                        gRPC EXPERIMENT tcp_frame_size_tuning               OFF (default:OFF)\n",
      "D0801 12:15:52.181923655      14 config.cc:119]                        gRPC EXPERIMENT tcp_rcv_lowat                       OFF (default:OFF)\n",
      "D0801 12:15:52.181927361      14 config.cc:119]                        gRPC EXPERIMENT peer_state_based_framing            OFF (default:OFF)\n",
      "D0801 12:15:52.181930453      14 config.cc:119]                        gRPC EXPERIMENT flow_control_fixes                  ON  (default:ON)\n",
      "D0801 12:15:52.181933226      14 config.cc:119]                        gRPC EXPERIMENT memory_pressure_controller          OFF (default:OFF)\n",
      "D0801 12:15:52.181936137      14 config.cc:119]                        gRPC EXPERIMENT unconstrained_max_quota_buffer_size OFF (default:OFF)\n",
      "D0801 12:15:52.181939574      14 config.cc:119]                        gRPC EXPERIMENT new_hpack_huffman_decoder           ON  (default:ON)\n",
      "D0801 12:15:52.181942379      14 config.cc:119]                        gRPC EXPERIMENT event_engine_client                 OFF (default:OFF)\n",
      "D0801 12:15:52.181945002      14 config.cc:119]                        gRPC EXPERIMENT monitoring_experiment               ON  (default:ON)\n",
      "D0801 12:15:52.181947665      14 config.cc:119]                        gRPC EXPERIMENT promise_based_client_call           OFF (default:OFF)\n",
      "D0801 12:15:52.181950269      14 config.cc:119]                        gRPC EXPERIMENT free_large_allocator                OFF (default:OFF)\n",
      "D0801 12:15:52.181953002      14 config.cc:119]                        gRPC EXPERIMENT promise_based_server_call           OFF (default:OFF)\n",
      "D0801 12:15:52.181955661      14 config.cc:119]                        gRPC EXPERIMENT transport_supplies_client_latency   OFF (default:OFF)\n",
      "D0801 12:15:52.181958620      14 config.cc:119]                        gRPC EXPERIMENT event_engine_listener               OFF (default:OFF)\n",
      "I0801 12:15:52.182174487      14 ev_epoll1_linux.cc:122]               grpc epoll fd: 58\n",
      "D0801 12:15:52.182190425      14 ev_posix.cc:144]                      Using polling engine: epoll1\n",
      "D0801 12:15:52.182220156      14 dns_resolver_ares.cc:822]             Using ares dns resolver\n",
      "D0801 12:15:52.182588066      14 lb_policy_registry.cc:46]             registering LB policy factory for \"priority_experimental\"\n",
      "D0801 12:15:52.182603754      14 lb_policy_registry.cc:46]             registering LB policy factory for \"outlier_detection_experimental\"\n",
      "D0801 12:15:52.182607499      14 lb_policy_registry.cc:46]             registering LB policy factory for \"weighted_target_experimental\"\n",
      "D0801 12:15:52.182611287      14 lb_policy_registry.cc:46]             registering LB policy factory for \"pick_first\"\n",
      "D0801 12:15:52.182614640      14 lb_policy_registry.cc:46]             registering LB policy factory for \"round_robin\"\n",
      "D0801 12:15:52.182617799      14 lb_policy_registry.cc:46]             registering LB policy factory for \"weighted_round_robin_experimental\"\n",
      "D0801 12:15:52.182625113      14 lb_policy_registry.cc:46]             registering LB policy factory for \"ring_hash_experimental\"\n",
      "D0801 12:15:52.182642958      14 lb_policy_registry.cc:46]             registering LB policy factory for \"grpclb\"\n",
      "D0801 12:15:52.182670548      14 lb_policy_registry.cc:46]             registering LB policy factory for \"rls_experimental\"\n",
      "D0801 12:15:52.182685295      14 lb_policy_registry.cc:46]             registering LB policy factory for \"xds_cluster_manager_experimental\"\n",
      "D0801 12:15:52.182689302      14 lb_policy_registry.cc:46]             registering LB policy factory for \"xds_cluster_impl_experimental\"\n",
      "D0801 12:15:52.182692792      14 lb_policy_registry.cc:46]             registering LB policy factory for \"cds_experimental\"\n",
      "D0801 12:15:52.182699478      14 lb_policy_registry.cc:46]             registering LB policy factory for \"xds_cluster_resolver_experimental\"\n",
      "D0801 12:15:52.182703112      14 lb_policy_registry.cc:46]             registering LB policy factory for \"xds_override_host_experimental\"\n",
      "D0801 12:15:52.182706978      14 lb_policy_registry.cc:46]             registering LB policy factory for \"xds_wrr_locality_experimental\"\n",
      "D0801 12:15:52.182711458      14 certificate_provider_registry.cc:35]  registering certificate provider factory for \"file_watcher\"\n",
      "I0801 12:15:52.185235540      14 socket_utils_common_posix.cc:408]     Disabling AF_INET6 sockets because ::1 is not available.\n",
      "I0801 12:15:52.208881120     106 socket_utils_common_posix.cc:337]     TCP_USER_TIMEOUT is available. TCP_USER_TIMEOUT will be used thereafter\n",
      "E0801 12:15:52.216357054     106 oauth2_credentials.cc:236]            oauth_fetch: UNKNOWN:C-ares status is not ARES_SUCCESS qtype=A name=metadata.google.internal. is_balancer=0: Domain name not found {grpc_status:2, created_time:\"2023-08-01T12:15:52.216342504+00:00\"}\n"
     ]
    }
   ],
   "source": [
    "import os\n",
    "import tensorflow as tf\n",
    "from tensorflow import keras\n",
    "from keras.layers import Dense,Flatten\n",
    "from keras.applications import MobileNetV2\n",
    "import cv2 as cv\n",
    "import pandas as pd\n",
    "import numpy as np\n",
    "from sklearn.model_selection import train_test_split\n",
    "from sklearn.metrics import confusion_matrix,classification_report\n",
    "import gc"
   ]
  },
  {
   "cell_type": "code",
   "execution_count": 2,
   "id": "6dcec839",
   "metadata": {
    "execution": {
     "iopub.execute_input": "2023-08-01T12:16:04.488792Z",
     "iopub.status.busy": "2023-08-01T12:16:04.488224Z",
     "iopub.status.idle": "2023-08-01T12:16:04.507591Z",
     "shell.execute_reply": "2023-08-01T12:16:04.506818Z"
    },
    "papermill": {
     "duration": 0.034327,
     "end_time": "2023-08-01T12:16:04.509759",
     "exception": false,
     "start_time": "2023-08-01T12:16:04.475432",
     "status": "completed"
    },
    "tags": []
   },
   "outputs": [
    {
     "data": {
      "text/plain": [
       "['Tomato___Late_blight',\n",
       " 'Tomato___healthy',\n",
       " 'Grape___healthy',\n",
       " 'Orange___Haunglongbing_(Citrus_greening)',\n",
       " 'Soybean___healthy',\n",
       " 'Squash___Powdery_mildew',\n",
       " 'Potato___healthy',\n",
       " 'Corn_(maize)___Northern_Leaf_Blight',\n",
       " 'Tomato___Early_blight',\n",
       " 'Tomato___Septoria_leaf_spot',\n",
       " 'Corn_(maize)___Cercospora_leaf_spot Gray_leaf_spot',\n",
       " 'Strawberry___Leaf_scorch',\n",
       " 'Peach___healthy',\n",
       " 'Apple___Apple_scab',\n",
       " 'Tomato___Tomato_Yellow_Leaf_Curl_Virus',\n",
       " 'Tomato___Bacterial_spot',\n",
       " 'Apple___Black_rot',\n",
       " 'Blueberry___healthy',\n",
       " 'Cherry_(including_sour)___Powdery_mildew',\n",
       " 'Peach___Bacterial_spot',\n",
       " 'Apple___Cedar_apple_rust',\n",
       " 'Tomato___Target_Spot',\n",
       " 'Pepper,_bell___healthy',\n",
       " 'Grape___Leaf_blight_(Isariopsis_Leaf_Spot)',\n",
       " 'Potato___Late_blight',\n",
       " 'Tomato___Tomato_mosaic_virus',\n",
       " 'Strawberry___healthy',\n",
       " 'Apple___healthy',\n",
       " 'Grape___Black_rot',\n",
       " 'Potato___Early_blight',\n",
       " 'Cherry_(including_sour)___healthy',\n",
       " 'Corn_(maize)___Common_rust_',\n",
       " 'Grape___Esca_(Black_Measles)',\n",
       " 'Raspberry___healthy',\n",
       " 'Tomato___Leaf_Mold',\n",
       " 'Tomato___Spider_mites Two-spotted_spider_mite',\n",
       " 'Pepper,_bell___Bacterial_spot',\n",
       " 'Corn_(maize)___healthy']"
      ]
     },
     "execution_count": 2,
     "metadata": {},
     "output_type": "execute_result"
    }
   ],
   "source": [
    "path=r'/kaggle/input/new-plant-diseases-dataset/New Plant Diseases Dataset(Augmented)/New Plant Diseases Dataset(Augmented)/train'\n",
    "classes=os.listdir(path)\n",
    "classes"
   ]
  },
  {
   "cell_type": "code",
   "execution_count": 3,
   "id": "3da4fbe2",
   "metadata": {
    "execution": {
     "iopub.execute_input": "2023-08-01T12:16:04.534749Z",
     "iopub.status.busy": "2023-08-01T12:16:04.534472Z",
     "iopub.status.idle": "2023-08-01T12:24:47.046290Z",
     "shell.execute_reply": "2023-08-01T12:24:47.045416Z"
    },
    "papermill": {
     "duration": 522.527347,
     "end_time": "2023-08-01T12:24:47.048684",
     "exception": false,
     "start_time": "2023-08-01T12:16:04.521337",
     "status": "completed"
    },
    "tags": []
   },
   "outputs": [
    {
     "name": "stdout",
     "output_type": "stream",
     "text": [
      "0:Tomato___Late_blight\n",
      "1:Tomato___healthy\n",
      "2:Grape___healthy\n",
      "3:Orange___Haunglongbing_(Citrus_greening)\n",
      "4:Soybean___healthy\n",
      "5:Squash___Powdery_mildew\n",
      "6:Potato___healthy\n",
      "7:Corn_(maize)___Northern_Leaf_Blight\n",
      "8:Tomato___Early_blight\n",
      "9:Tomato___Septoria_leaf_spot\n",
      "10:Corn_(maize)___Cercospora_leaf_spot Gray_leaf_spot\n",
      "11:Strawberry___Leaf_scorch\n",
      "12:Peach___healthy\n",
      "13:Apple___Apple_scab\n",
      "14:Tomato___Tomato_Yellow_Leaf_Curl_Virus\n",
      "15:Tomato___Bacterial_spot\n",
      "16:Apple___Black_rot\n",
      "17:Blueberry___healthy\n",
      "18:Cherry_(including_sour)___Powdery_mildew\n",
      "19:Peach___Bacterial_spot\n",
      "20:Apple___Cedar_apple_rust\n",
      "21:Tomato___Target_Spot\n",
      "22:Pepper,_bell___healthy\n",
      "23:Grape___Leaf_blight_(Isariopsis_Leaf_Spot)\n",
      "24:Potato___Late_blight\n",
      "25:Tomato___Tomato_mosaic_virus\n",
      "26:Strawberry___healthy\n",
      "27:Apple___healthy\n",
      "28:Grape___Black_rot\n",
      "29:Potato___Early_blight\n",
      "30:Cherry_(including_sour)___healthy\n",
      "31:Corn_(maize)___Common_rust_\n",
      "32:Grape___Esca_(Black_Measles)\n",
      "33:Raspberry___healthy\n",
      "34:Tomato___Leaf_Mold\n",
      "35:Tomato___Spider_mites Two-spotted_spider_mite\n",
      "36:Pepper,_bell___Bacterial_spot\n",
      "37:Corn_(maize)___healthy\n"
     ]
    }
   ],
   "source": [
    "data=[]\n",
    "label=[]\n",
    "for i in range(len(classes)):\n",
    "    cpath=os.path.join(path,classes[i])\n",
    "    images=os.listdir(cpath)\n",
    "    for im in images:\n",
    "        imgpath=os.path.join(cpath,im)\n",
    "        img=cv.imread(imgpath)\n",
    "        data.append(img)\n",
    "        label.append(i)\n",
    "    print(f'{i}:{classes[i]}')"
   ]
  },
  {
   "cell_type": "code",
   "execution_count": 4,
   "id": "8cb39fca",
   "metadata": {
    "execution": {
     "iopub.execute_input": "2023-08-01T12:24:47.080487Z",
     "iopub.status.busy": "2023-08-01T12:24:47.080177Z",
     "iopub.status.idle": "2023-08-01T12:26:45.929327Z",
     "shell.execute_reply": "2023-08-01T12:26:45.928288Z"
    },
    "papermill": {
     "duration": 118.86818,
     "end_time": "2023-08-01T12:26:45.932174",
     "exception": false,
     "start_time": "2023-08-01T12:24:47.063994",
     "status": "completed"
    },
    "tags": []
   },
   "outputs": [],
   "source": [
    "path2=r'/kaggle/input/new-plant-diseases-dataset/New Plant Diseases Dataset(Augmented)/New Plant Diseases Dataset(Augmented)/valid'\n",
    "classes2=os.listdir(path2)\n",
    "# val=[]\n",
    "# valLabel=[]\n",
    "for i in range(len(classes2)):\n",
    "    cpath=os.path.join(path2,classes[i])\n",
    "    images=os.listdir(cpath)\n",
    "    for im in images:\n",
    "        imgpath=os.path.join(cpath,im)\n",
    "        img=cv.imread(imgpath)\n",
    "        data.append(img)\n",
    "        label.append(classes.index(classes2[i]))\n",
    "#     print(f'{i}:{classes[i]}')"
   ]
  },
  {
   "cell_type": "code",
   "execution_count": 5,
   "id": "d19e0241",
   "metadata": {
    "execution": {
     "iopub.execute_input": "2023-08-01T12:26:45.967292Z",
     "iopub.status.busy": "2023-08-01T12:26:45.966509Z",
     "iopub.status.idle": "2023-08-01T12:26:46.025055Z",
     "shell.execute_reply": "2023-08-01T12:26:46.024275Z"
    },
    "papermill": {
     "duration": 0.078072,
     "end_time": "2023-08-01T12:26:46.027295",
     "exception": false,
     "start_time": "2023-08-01T12:26:45.949223",
     "status": "completed"
    },
    "tags": []
   },
   "outputs": [],
   "source": [
    "xTrain,xTest,yTrain,yTest=train_test_split(data,label,random_state=0,train_size=0.75,shuffle=True)"
   ]
  },
  {
   "cell_type": "code",
   "execution_count": 6,
   "id": "050383c2",
   "metadata": {
    "execution": {
     "iopub.execute_input": "2023-08-01T12:26:46.059375Z",
     "iopub.status.busy": "2023-08-01T12:26:46.059095Z",
     "iopub.status.idle": "2023-08-01T12:26:46.076249Z",
     "shell.execute_reply": "2023-08-01T12:26:46.075504Z"
    },
    "papermill": {
     "duration": 0.035282,
     "end_time": "2023-08-01T12:26:46.078208",
     "exception": false,
     "start_time": "2023-08-01T12:26:46.042926",
     "status": "completed"
    },
    "tags": []
   },
   "outputs": [],
   "source": [
    "xValid,xTest,yValid,yTest=train_test_split(xTest,yTest,random_state=0,train_size=0.5,shuffle=True)"
   ]
  },
  {
   "cell_type": "code",
   "execution_count": 7,
   "id": "834ae84c",
   "metadata": {
    "execution": {
     "iopub.execute_input": "2023-08-01T12:26:46.111426Z",
     "iopub.status.busy": "2023-08-01T12:26:46.110587Z",
     "iopub.status.idle": "2023-08-01T12:26:46.118978Z",
     "shell.execute_reply": "2023-08-01T12:26:46.118118Z"
    },
    "papermill": {
     "duration": 0.027799,
     "end_time": "2023-08-01T12:26:46.121127",
     "exception": false,
     "start_time": "2023-08-01T12:26:46.093328",
     "status": "completed"
    },
    "tags": []
   },
   "outputs": [
    {
     "data": {
      "text/plain": [
       "array([[[206, 204, 210],\n",
       "        [206, 204, 210],\n",
       "        [204, 202, 208],\n",
       "        ...,\n",
       "        [186, 173, 181],\n",
       "        [208, 195, 203],\n",
       "        [182, 169, 177]],\n",
       "\n",
       "       [[202, 200, 206],\n",
       "        [203, 201, 207],\n",
       "        [201, 199, 205],\n",
       "        ...,\n",
       "        [195, 182, 190],\n",
       "        [215, 202, 210],\n",
       "        [193, 180, 188]],\n",
       "\n",
       "       [[189, 187, 193],\n",
       "        [192, 190, 196],\n",
       "        [192, 190, 196],\n",
       "        ...,\n",
       "        [192, 179, 187],\n",
       "        [197, 184, 192],\n",
       "        [233, 220, 228]],\n",
       "\n",
       "       ...,\n",
       "\n",
       "       [[154, 144, 156],\n",
       "        [162, 152, 164],\n",
       "        [169, 159, 171],\n",
       "        ...,\n",
       "        [177, 162, 170],\n",
       "        [176, 161, 169],\n",
       "        [153, 138, 146]],\n",
       "\n",
       "       [[178, 168, 180],\n",
       "        [182, 172, 184],\n",
       "        [183, 173, 185],\n",
       "        ...,\n",
       "        [169, 154, 162],\n",
       "        [212, 197, 205],\n",
       "        [172, 157, 165]],\n",
       "\n",
       "       [[163, 153, 165],\n",
       "        [168, 158, 170],\n",
       "        [173, 163, 175],\n",
       "        ...,\n",
       "        [165, 150, 158],\n",
       "        [163, 148, 156],\n",
       "        [189, 174, 182]]], dtype=uint8)"
      ]
     },
     "execution_count": 7,
     "metadata": {},
     "output_type": "execute_result"
    }
   ],
   "source": [
    "xTrain[5]"
   ]
  },
  {
   "cell_type": "code",
   "execution_count": 8,
   "id": "b33e4bb9",
   "metadata": {
    "execution": {
     "iopub.execute_input": "2023-08-01T12:26:46.156311Z",
     "iopub.status.busy": "2023-08-01T12:26:46.155571Z",
     "iopub.status.idle": "2023-08-01T12:27:13.877566Z",
     "shell.execute_reply": "2023-08-01T12:27:13.876649Z"
    },
    "papermill": {
     "duration": 27.742741,
     "end_time": "2023-08-01T12:27:13.880194",
     "exception": false,
     "start_time": "2023-08-01T12:26:46.137453",
     "status": "completed"
    },
    "tags": []
   },
   "outputs": [],
   "source": [
    "xTrain=np.array(xTrain,dtype=np.float32)/255"
   ]
  },
  {
   "cell_type": "code",
   "execution_count": 9,
   "id": "f316a7a5",
   "metadata": {
    "execution": {
     "iopub.execute_input": "2023-08-01T12:27:13.912162Z",
     "iopub.status.busy": "2023-08-01T12:27:13.911864Z",
     "iopub.status.idle": "2023-08-01T12:27:13.925002Z",
     "shell.execute_reply": "2023-08-01T12:27:13.924131Z"
    },
    "papermill": {
     "duration": 0.031267,
     "end_time": "2023-08-01T12:27:13.927061",
     "exception": false,
     "start_time": "2023-08-01T12:27:13.895794",
     "status": "completed"
    },
    "tags": []
   },
   "outputs": [],
   "source": [
    "yTrain=np.array(yTrain)"
   ]
  },
  {
   "cell_type": "code",
   "execution_count": 10,
   "id": "59156064",
   "metadata": {
    "execution": {
     "iopub.execute_input": "2023-08-01T12:27:13.958517Z",
     "iopub.status.busy": "2023-08-01T12:27:13.958245Z",
     "iopub.status.idle": "2023-08-01T12:27:23.979180Z",
     "shell.execute_reply": "2023-08-01T12:27:23.978274Z"
    },
    "papermill": {
     "duration": 10.039814,
     "end_time": "2023-08-01T12:27:23.981794",
     "exception": false,
     "start_time": "2023-08-01T12:27:13.941980",
     "status": "completed"
    },
    "tags": []
   },
   "outputs": [],
   "source": [
    "xTest=np.array(xTest,dtype=np.float32)/255\n",
    "yTest=np.array(yTest)\n",
    "xValid=np.array(xTest,dtype=np.float32)/255\n",
    "yValid=np.array(yTest)"
   ]
  },
  {
   "cell_type": "code",
   "execution_count": 11,
   "id": "6895639d",
   "metadata": {
    "execution": {
     "iopub.execute_input": "2023-08-01T12:27:24.013610Z",
     "iopub.status.busy": "2023-08-01T12:27:24.013309Z",
     "iopub.status.idle": "2023-08-01T12:27:24.019651Z",
     "shell.execute_reply": "2023-08-01T12:27:24.018744Z"
    },
    "papermill": {
     "duration": 0.024632,
     "end_time": "2023-08-01T12:27:24.021884",
     "exception": false,
     "start_time": "2023-08-01T12:27:23.997252",
     "status": "completed"
    },
    "tags": []
   },
   "outputs": [
    {
     "data": {
      "text/plain": [
       "((65900, 256, 256, 3), (65900,), (10984, 256, 256, 3), (10984,))"
      ]
     },
     "execution_count": 11,
     "metadata": {},
     "output_type": "execute_result"
    }
   ],
   "source": [
    "xTrain.shape,yTrain.shape,xTest.shape,yTest.shape"
   ]
  },
  {
   "cell_type": "code",
   "execution_count": 12,
   "id": "334e6279",
   "metadata": {
    "execution": {
     "iopub.execute_input": "2023-08-01T12:27:24.055163Z",
     "iopub.status.busy": "2023-08-01T12:27:24.054856Z",
     "iopub.status.idle": "2023-08-01T12:27:24.058568Z",
     "shell.execute_reply": "2023-08-01T12:27:24.057843Z"
    },
    "papermill": {
     "duration": 0.022927,
     "end_time": "2023-08-01T12:27:24.060613",
     "exception": false,
     "start_time": "2023-08-01T12:27:24.037686",
     "status": "completed"
    },
    "tags": []
   },
   "outputs": [],
   "source": [
    "#######################################"
   ]
  },
  {
   "cell_type": "code",
   "execution_count": 13,
   "id": "e5239c67",
   "metadata": {
    "execution": {
     "iopub.execute_input": "2023-08-01T12:27:24.092537Z",
     "iopub.status.busy": "2023-08-01T12:27:24.092261Z",
     "iopub.status.idle": "2023-08-01T12:27:32.853029Z",
     "shell.execute_reply": "2023-08-01T12:27:32.851857Z"
    },
    "papermill": {
     "duration": 8.788103,
     "end_time": "2023-08-01T12:27:32.863902",
     "exception": false,
     "start_time": "2023-08-01T12:27:24.075799",
     "status": "completed"
    },
    "tags": []
   },
   "outputs": [
    {
     "name": "stdout",
     "output_type": "stream",
     "text": [
      "INFO:tensorflow:Deallocate tpu buffers before initializing tpu system.\n",
      "INFO:tensorflow:Initializing the TPU system: local\n",
      "INFO:tensorflow:Finished initializing TPU system.\n"
     ]
    },
    {
     "name": "stderr",
     "output_type": "stream",
     "text": [
      "WARNING:absl:`tf.distribute.experimental.TPUStrategy` is deprecated, please use  the non experimental symbol `tf.distribute.TPUStrategy` instead.\n"
     ]
    },
    {
     "name": "stdout",
     "output_type": "stream",
     "text": [
      "INFO:tensorflow:Found TPU system:\n"
     ]
    },
    {
     "name": "stderr",
     "output_type": "stream",
     "text": [
      "INFO:tensorflow:Found TPU system:\n"
     ]
    },
    {
     "name": "stdout",
     "output_type": "stream",
     "text": [
      "INFO:tensorflow:*** Num TPU Cores: 8\n"
     ]
    },
    {
     "name": "stderr",
     "output_type": "stream",
     "text": [
      "INFO:tensorflow:*** Num TPU Cores: 8\n"
     ]
    },
    {
     "name": "stdout",
     "output_type": "stream",
     "text": [
      "INFO:tensorflow:*** Num TPU Workers: 1\n"
     ]
    },
    {
     "name": "stderr",
     "output_type": "stream",
     "text": [
      "INFO:tensorflow:*** Num TPU Workers: 1\n"
     ]
    },
    {
     "name": "stdout",
     "output_type": "stream",
     "text": [
      "INFO:tensorflow:*** Num TPU Cores Per Worker: 8\n"
     ]
    },
    {
     "name": "stderr",
     "output_type": "stream",
     "text": [
      "INFO:tensorflow:*** Num TPU Cores Per Worker: 8\n"
     ]
    },
    {
     "name": "stdout",
     "output_type": "stream",
     "text": [
      "INFO:tensorflow:*** Available Device: _DeviceAttributes(/job:localhost/replica:0/task:0/device:CPU:0, CPU, 0, 0)\n"
     ]
    },
    {
     "name": "stderr",
     "output_type": "stream",
     "text": [
      "INFO:tensorflow:*** Available Device: _DeviceAttributes(/job:localhost/replica:0/task:0/device:CPU:0, CPU, 0, 0)\n"
     ]
    },
    {
     "name": "stdout",
     "output_type": "stream",
     "text": [
      "INFO:tensorflow:*** Available Device: _DeviceAttributes(/job:localhost/replica:0/task:0/device:TPU:0, TPU, 0, 0)\n"
     ]
    },
    {
     "name": "stderr",
     "output_type": "stream",
     "text": [
      "INFO:tensorflow:*** Available Device: _DeviceAttributes(/job:localhost/replica:0/task:0/device:TPU:0, TPU, 0, 0)\n"
     ]
    },
    {
     "name": "stdout",
     "output_type": "stream",
     "text": [
      "INFO:tensorflow:*** Available Device: _DeviceAttributes(/job:localhost/replica:0/task:0/device:TPU:1, TPU, 0, 0)\n"
     ]
    },
    {
     "name": "stderr",
     "output_type": "stream",
     "text": [
      "INFO:tensorflow:*** Available Device: _DeviceAttributes(/job:localhost/replica:0/task:0/device:TPU:1, TPU, 0, 0)\n"
     ]
    },
    {
     "name": "stdout",
     "output_type": "stream",
     "text": [
      "INFO:tensorflow:*** Available Device: _DeviceAttributes(/job:localhost/replica:0/task:0/device:TPU:2, TPU, 0, 0)\n"
     ]
    },
    {
     "name": "stderr",
     "output_type": "stream",
     "text": [
      "INFO:tensorflow:*** Available Device: _DeviceAttributes(/job:localhost/replica:0/task:0/device:TPU:2, TPU, 0, 0)\n"
     ]
    },
    {
     "name": "stdout",
     "output_type": "stream",
     "text": [
      "INFO:tensorflow:*** Available Device: _DeviceAttributes(/job:localhost/replica:0/task:0/device:TPU:3, TPU, 0, 0)\n"
     ]
    },
    {
     "name": "stderr",
     "output_type": "stream",
     "text": [
      "INFO:tensorflow:*** Available Device: _DeviceAttributes(/job:localhost/replica:0/task:0/device:TPU:3, TPU, 0, 0)\n"
     ]
    },
    {
     "name": "stdout",
     "output_type": "stream",
     "text": [
      "INFO:tensorflow:*** Available Device: _DeviceAttributes(/job:localhost/replica:0/task:0/device:TPU:4, TPU, 0, 0)\n"
     ]
    },
    {
     "name": "stderr",
     "output_type": "stream",
     "text": [
      "INFO:tensorflow:*** Available Device: _DeviceAttributes(/job:localhost/replica:0/task:0/device:TPU:4, TPU, 0, 0)\n"
     ]
    },
    {
     "name": "stdout",
     "output_type": "stream",
     "text": [
      "INFO:tensorflow:*** Available Device: _DeviceAttributes(/job:localhost/replica:0/task:0/device:TPU:5, TPU, 0, 0)\n"
     ]
    },
    {
     "name": "stderr",
     "output_type": "stream",
     "text": [
      "INFO:tensorflow:*** Available Device: _DeviceAttributes(/job:localhost/replica:0/task:0/device:TPU:5, TPU, 0, 0)\n"
     ]
    },
    {
     "name": "stdout",
     "output_type": "stream",
     "text": [
      "INFO:tensorflow:*** Available Device: _DeviceAttributes(/job:localhost/replica:0/task:0/device:TPU:6, TPU, 0, 0)\n"
     ]
    },
    {
     "name": "stderr",
     "output_type": "stream",
     "text": [
      "INFO:tensorflow:*** Available Device: _DeviceAttributes(/job:localhost/replica:0/task:0/device:TPU:6, TPU, 0, 0)\n"
     ]
    },
    {
     "name": "stdout",
     "output_type": "stream",
     "text": [
      "INFO:tensorflow:*** Available Device: _DeviceAttributes(/job:localhost/replica:0/task:0/device:TPU:7, TPU, 0, 0)\n"
     ]
    },
    {
     "name": "stderr",
     "output_type": "stream",
     "text": [
      "INFO:tensorflow:*** Available Device: _DeviceAttributes(/job:localhost/replica:0/task:0/device:TPU:7, TPU, 0, 0)\n"
     ]
    },
    {
     "name": "stdout",
     "output_type": "stream",
     "text": [
      "INFO:tensorflow:*** Available Device: _DeviceAttributes(/job:localhost/replica:0/task:0/device:TPU_SYSTEM:0, TPU_SYSTEM, 0, 0)\n"
     ]
    },
    {
     "name": "stderr",
     "output_type": "stream",
     "text": [
      "INFO:tensorflow:*** Available Device: _DeviceAttributes(/job:localhost/replica:0/task:0/device:TPU_SYSTEM:0, TPU_SYSTEM, 0, 0)\n"
     ]
    }
   ],
   "source": [
    "tpu = tf.distribute.cluster_resolver.TPUClusterResolver.connect()\n",
    "tpu_strategy = tf.distribute.experimental.TPUStrategy(tpu)"
   ]
  },
  {
   "cell_type": "code",
   "execution_count": 14,
   "id": "c931af1d",
   "metadata": {
    "execution": {
     "iopub.execute_input": "2023-08-01T12:27:32.904366Z",
     "iopub.status.busy": "2023-08-01T12:27:32.904066Z",
     "iopub.status.idle": "2023-08-01T12:27:52.413701Z",
     "shell.execute_reply": "2023-08-01T12:27:52.412325Z"
    },
    "papermill": {
     "duration": 19.533082,
     "end_time": "2023-08-01T12:27:52.416512",
     "exception": false,
     "start_time": "2023-08-01T12:27:32.883430",
     "status": "completed"
    },
    "tags": []
   },
   "outputs": [
    {
     "name": "stdout",
     "output_type": "stream",
     "text": [
      "WARNING:tensorflow:`input_shape` is undefined or non-square, or `rows` is not in [96, 128, 160, 192, 224]. Weights for input shape (224, 224) will be loaded as the default.\n"
     ]
    },
    {
     "name": "stderr",
     "output_type": "stream",
     "text": [
      "WARNING:tensorflow:`input_shape` is undefined or non-square, or `rows` is not in [96, 128, 160, 192, 224]. Weights for input shape (224, 224) will be loaded as the default.\n"
     ]
    },
    {
     "name": "stdout",
     "output_type": "stream",
     "text": [
      "Downloading data from https://storage.googleapis.com/tensorflow/keras-applications/mobilenet_v2/mobilenet_v2_weights_tf_dim_ordering_tf_kernels_1.0_224_no_top.h5\n",
      "9406464/9406464 [==============================] - 0s 0us/step\n"
     ]
    }
   ],
   "source": [
    "with tpu_strategy.scope():\n",
    "    conv_base=MobileNetV2(weights='imagenet',include_top=False,input_shape=(256,256,3))\n",
    "    conv_base.trainable=False\n",
    "#     set_trainable=False\n",
    "#     for layer in conv_base.layers:\n",
    "#         if layer.name=='block5_conv1':\n",
    "#             set_trainable=True\n",
    "#         if set_trainable:\n",
    "#             layer.trainable=True\n",
    "#         else:\n",
    "#             layer.trainable=False\n",
    "# #     for layer in conv_base.layers:\n",
    "# #         print(f'{layer.name},{layer.trainable}')\n",
    "\n",
    "    tlmodel=keras.Sequential()\n",
    "    tlmodel.add(conv_base)\n",
    "    tlmodel.add(Flatten())\n",
    "    tlmodel.add(Dense(128,activation=\"relu\"))\n",
    "    tlmodel.add(Dense(64,activation=\"relu\"))\n",
    "#     tlmodel.add(Dense(64,activation=\"relu\"))\n",
    "    tlmodel.add(Dense(38,activation=\"softmax\"))\n",
    "    tlmodel.compile(optimizer=tf.optimizers.RMSprop(learning_rate=1e-5),loss=tf.losses.CategoricalCrossentropy(),metrics=[\"accuracy\",tf.metrics.RootMeanSquaredError()])"
   ]
  },
  {
   "cell_type": "code",
   "execution_count": 15,
   "id": "ff623c20",
   "metadata": {
    "execution": {
     "iopub.execute_input": "2023-08-01T12:27:52.459804Z",
     "iopub.status.busy": "2023-08-01T12:27:52.458853Z",
     "iopub.status.idle": "2023-08-01T12:27:52.493687Z",
     "shell.execute_reply": "2023-08-01T12:27:52.492494Z"
    },
    "papermill": {
     "duration": 0.059047,
     "end_time": "2023-08-01T12:27:52.496043",
     "exception": false,
     "start_time": "2023-08-01T12:27:52.436996",
     "status": "completed"
    },
    "tags": []
   },
   "outputs": [
    {
     "name": "stdout",
     "output_type": "stream",
     "text": [
      "Model: \"sequential\"\n",
      "_________________________________________________________________\n",
      " Layer (type)                Output Shape              Param #   \n",
      "=================================================================\n",
      " mobilenetv2_1.00_224 (Funct  (None, 8, 8, 1280)       2257984   \n",
      " ional)                                                          \n",
      "                                                                 \n",
      " flatten (Flatten)           (None, 81920)             0         \n",
      "                                                                 \n",
      " dense (Dense)               (None, 128)               10485888  \n",
      "                                                                 \n",
      " dense_1 (Dense)             (None, 64)                8256      \n",
      "                                                                 \n",
      " dense_2 (Dense)             (None, 38)                2470      \n",
      "                                                                 \n",
      "=================================================================\n",
      "Total params: 12,754,598\n",
      "Trainable params: 10,496,614\n",
      "Non-trainable params: 2,257,984\n",
      "_________________________________________________________________\n"
     ]
    }
   ],
   "source": [
    "tlmodel.summary()"
   ]
  },
  {
   "cell_type": "code",
   "execution_count": 16,
   "id": "863b1de3",
   "metadata": {
    "execution": {
     "iopub.execute_input": "2023-08-01T12:27:52.545013Z",
     "iopub.status.busy": "2023-08-01T12:27:52.544545Z",
     "iopub.status.idle": "2023-08-01T12:34:03.548679Z",
     "shell.execute_reply": "2023-08-01T12:34:03.547273Z"
    },
    "papermill": {
     "duration": 371.031957,
     "end_time": "2023-08-01T12:34:03.551339",
     "exception": false,
     "start_time": "2023-08-01T12:27:52.519382",
     "status": "completed"
    },
    "tags": []
   },
   "outputs": [
    {
     "name": "stdout",
     "output_type": "stream",
     "text": [
      "Epoch 1/5\n"
     ]
    },
    {
     "name": "stderr",
     "output_type": "stream",
     "text": [
      "2023-08-01 12:29:37.892382: E tensorflow/core/grappler/optimizers/meta_optimizer.cc:954] model_pruner failed: INVALID_ARGUMENT: Graph does not contain terminal node AssignAddVariableOp.\n",
      "2023-08-01 12:29:38.089901: E tensorflow/core/grappler/optimizers/meta_optimizer.cc:954] model_pruner failed: INVALID_ARGUMENT: Graph does not contain terminal node AssignAddVariableOp.\n"
     ]
    },
    {
     "name": "stdout",
     "output_type": "stream",
     "text": [
      "1318/1318 [==============================] - ETA: 0s - loss: 0.7947 - accuracy: 0.7867 - root_mean_squared_error: 0.0886"
     ]
    },
    {
     "name": "stderr",
     "output_type": "stream",
     "text": [
      "2023-08-01 12:30:43.688045: E tensorflow/core/grappler/optimizers/meta_optimizer.cc:954] model_pruner failed: INVALID_ARGUMENT: Graph does not contain terminal node AssignAddVariableOp.\n",
      "2023-08-01 12:30:43.900502: E tensorflow/core/grappler/optimizers/meta_optimizer.cc:954] model_pruner failed: INVALID_ARGUMENT: Graph does not contain terminal node AssignAddVariableOp.\n"
     ]
    },
    {
     "name": "stdout",
     "output_type": "stream",
     "text": [
      "1318/1318 [==============================] - 88s 58ms/step - loss: 0.7947 - accuracy: 0.7867 - root_mean_squared_error: 0.0886 - val_loss: 7.9048 - val_accuracy: 0.0258 - val_root_mean_squared_error: 0.1962\n",
      "Epoch 2/5\n",
      "1318/1318 [==============================] - 45s 34ms/step - loss: 0.1605 - accuracy: 0.9536 - root_mean_squared_error: 0.0437 - val_loss: 8.6394 - val_accuracy: 0.0258 - val_root_mean_squared_error: 0.1963\n",
      "Epoch 3/5\n",
      "1318/1318 [==============================] - 45s 34ms/step - loss: 0.0687 - accuracy: 0.9826 - root_mean_squared_error: 0.0279 - val_loss: 10.3266 - val_accuracy: 0.0258 - val_root_mean_squared_error: 0.1962\n",
      "Epoch 4/5\n",
      "1318/1318 [==============================] - 46s 35ms/step - loss: 0.0301 - accuracy: 0.9949 - root_mean_squared_error: 0.0169 - val_loss: 11.2174 - val_accuracy: 0.0258 - val_root_mean_squared_error: 0.2005\n",
      "Epoch 5/5\n",
      "1318/1318 [==============================] - 45s 34ms/step - loss: 0.0132 - accuracy: 0.9987 - root_mean_squared_error: 0.0095 - val_loss: 11.8810 - val_accuracy: 0.0258 - val_root_mean_squared_error: 0.2135\n"
     ]
    }
   ],
   "source": [
    "history=tlmodel.fit(xTrain,tf.one_hot(yTrain,depth=38),shuffle=True,validation_data=(xValid,tf.one_hot(yValid,depth=38)),epochs=5,batch_size=50)"
   ]
  },
  {
   "cell_type": "code",
   "execution_count": 17,
   "id": "95765e76",
   "metadata": {
    "execution": {
     "iopub.execute_input": "2023-08-01T12:34:04.245176Z",
     "iopub.status.busy": "2023-08-01T12:34:04.244180Z",
     "iopub.status.idle": "2023-08-01T12:34:39.034017Z",
     "shell.execute_reply": "2023-08-01T12:34:39.032852Z"
    },
    "papermill": {
     "duration": 35.301338,
     "end_time": "2023-08-01T12:34:39.223598",
     "exception": false,
     "start_time": "2023-08-01T12:34:03.922260",
     "status": "completed"
    },
    "tags": []
   },
   "outputs": [
    {
     "name": "stdout",
     "output_type": "stream",
     "text": [
      "344/344 [==============================] - 18s 37ms/step - loss: 0.1374 - accuracy: 0.9579 - root_mean_squared_error: 0.0409\n"
     ]
    },
    {
     "data": {
      "text/plain": [
       "[0.13741739094257355, 0.9579387903213501, 0.04086371511220932]"
      ]
     },
     "execution_count": 17,
     "metadata": {},
     "output_type": "execute_result"
    }
   ],
   "source": [
    "tlmodel.evaluate(xTest,tf.one_hot(yTest,depth=38))"
   ]
  },
  {
   "cell_type": "code",
   "execution_count": 18,
   "id": "b002e1be",
   "metadata": {
    "execution": {
     "iopub.execute_input": "2023-08-01T12:34:39.923172Z",
     "iopub.status.busy": "2023-08-01T12:34:39.922758Z",
     "iopub.status.idle": "2023-08-01T12:35:15.944487Z",
     "shell.execute_reply": "2023-08-01T12:35:15.943130Z"
    },
    "papermill": {
     "duration": 36.382621,
     "end_time": "2023-08-01T12:35:15.947026",
     "exception": false,
     "start_time": "2023-08-01T12:34:39.564405",
     "status": "completed"
    },
    "tags": []
   },
   "outputs": [
    {
     "name": "stderr",
     "output_type": "stream",
     "text": [
      "2023-08-01 12:34:58.344794: E tensorflow/core/grappler/optimizers/meta_optimizer.cc:954] model_pruner failed: INVALID_ARGUMENT: Graph does not contain terminal node AssignAddVariableOp.\n",
      "2023-08-01 12:34:58.521236: E tensorflow/core/grappler/optimizers/meta_optimizer.cc:954] model_pruner failed: INVALID_ARGUMENT: Graph does not contain terminal node AssignAddVariableOp.\n"
     ]
    },
    {
     "name": "stdout",
     "output_type": "stream",
     "text": [
      "344/344 [==============================] - 19s 36ms/step\n"
     ]
    },
    {
     "data": {
      "text/plain": [
       "array([ 3,  3, 28, ..., 10, 24, 10])"
      ]
     },
     "execution_count": 18,
     "metadata": {},
     "output_type": "execute_result"
    }
   ],
   "source": [
    "yPred=tlmodel.predict(xTest)\n",
    "y_pred=yPred\n",
    "y_pred=np.argmax(y_pred,axis=1)\n",
    "y_pred"
   ]
  },
  {
   "cell_type": "code",
   "execution_count": 19,
   "id": "e9f363bc",
   "metadata": {
    "execution": {
     "iopub.execute_input": "2023-08-01T12:35:16.675532Z",
     "iopub.status.busy": "2023-08-01T12:35:16.674435Z",
     "iopub.status.idle": "2023-08-01T12:35:16.718194Z",
     "shell.execute_reply": "2023-08-01T12:35:16.716987Z"
    },
    "papermill": {
     "duration": 0.394997,
     "end_time": "2023-08-01T12:35:16.720401",
     "exception": false,
     "start_time": "2023-08-01T12:35:16.325404",
     "status": "completed"
    },
    "tags": []
   },
   "outputs": [
    {
     "name": "stdout",
     "output_type": "stream",
     "text": [
      "              precision    recall  f1-score   support\n",
      "\n",
      "           0       0.82      0.93      0.87       280\n",
      "           1       0.97      0.96      0.97       305\n",
      "           2       1.00      1.00      1.00       237\n",
      "           3       0.99      1.00      0.99       288\n",
      "           4       0.99      0.98      0.98       322\n",
      "           5       1.00      0.98      0.99       298\n",
      "           6       0.98      0.94      0.96       301\n",
      "           7       0.93      0.97      0.95       271\n",
      "           8       0.94      0.73      0.82       310\n",
      "           9       0.88      0.87      0.88       262\n",
      "          10       0.96      0.90      0.93       257\n",
      "          11       0.99      0.99      0.99       251\n",
      "          12       0.98      0.98      0.98       266\n",
      "          13       0.96      0.97      0.97       309\n",
      "          14       0.97      0.98      0.97       288\n",
      "          15       0.93      0.96      0.95       274\n",
      "          16       0.98      0.99      0.99       306\n",
      "          17       0.99      1.00      1.00       273\n",
      "          18       0.99      0.98      0.99       247\n",
      "          19       0.99      0.96      0.97       287\n",
      "          20       0.96      0.96      0.96       269\n",
      "          21       0.80      0.91      0.85       258\n",
      "          22       0.98      0.96      0.97       311\n",
      "          23       1.00      1.00      1.00       266\n",
      "          24       0.85      0.97      0.91       329\n",
      "          25       0.93      0.98      0.96       306\n",
      "          26       0.99      0.98      0.98       283\n",
      "          27       0.96      0.98      0.97       346\n",
      "          28       0.99      0.96      0.97       268\n",
      "          29       0.97      0.96      0.97       322\n",
      "          30       0.99      0.99      0.99       293\n",
      "          31       0.99      0.99      0.99       291\n",
      "          32       0.96      1.00      0.98       312\n",
      "          33       1.00      1.00      1.00       315\n",
      "          34       0.97      0.87      0.92       354\n",
      "          35       0.92      0.88      0.90       286\n",
      "          36       0.96      0.97      0.97       260\n",
      "          37       0.99      0.99      0.99       283\n",
      "\n",
      "    accuracy                           0.96     10984\n",
      "   macro avg       0.96      0.96      0.96     10984\n",
      "weighted avg       0.96      0.96      0.96     10984\n",
      "\n"
     ]
    }
   ],
   "source": [
    "print(classification_report(yTest,y_pred))"
   ]
  },
  {
   "cell_type": "code",
   "execution_count": 20,
   "id": "29c2f125",
   "metadata": {
    "execution": {
     "iopub.execute_input": "2023-08-01T12:35:17.409979Z",
     "iopub.status.busy": "2023-08-01T12:35:17.409480Z",
     "iopub.status.idle": "2023-08-01T12:35:18.483417Z",
     "shell.execute_reply": "2023-08-01T12:35:18.481975Z"
    },
    "papermill": {
     "duration": 1.419279,
     "end_time": "2023-08-01T12:35:18.485738",
     "exception": false,
     "start_time": "2023-08-01T12:35:17.066459",
     "status": "completed"
    },
    "tags": []
   },
   "outputs": [],
   "source": [
    "# path_=r'/kaggle/input/new-plant-diseases-dataset/test/test'\n",
    "l=[]\n",
    "path_=r'/kaggle/input/new-plant-diseases-dataset/New Plant Diseases Dataset(Augmented)/New Plant Diseases Dataset(Augmented)/valid/Grape___healthy'\n",
    "# cpath=os.path.join(path2,classes[i])\n",
    "imgs=[]\n",
    "images=os.listdir(path_)\n",
    "for im in images:\n",
    "    imgpath=os.path.join(path_,im)\n",
    "    img=cv.resize(cv.imread(imgpath),(256,256))\n",
    "#     print(im)\n",
    "    imgs.append(img)\n",
    "    l.append(2)\n",
    "#     label.append(classes.index(classes2[i]))\n",
    "# l=[20,20,20,20,13,13,13,31,31,31,29,29,29,29,29,6,6,8,8,8,8,8,8,1,1,1,1,14,14,14,14,14,14]\n",
    "imgs=np.array(imgs)/255"
   ]
  },
  {
   "cell_type": "code",
   "execution_count": 21,
   "id": "e9cd63f6",
   "metadata": {
    "execution": {
     "iopub.execute_input": "2023-08-01T12:35:19.226625Z",
     "iopub.status.busy": "2023-08-01T12:35:19.226147Z",
     "iopub.status.idle": "2023-08-01T12:35:26.067071Z",
     "shell.execute_reply": "2023-08-01T12:35:26.065793Z"
    },
    "papermill": {
     "duration": 7.224014,
     "end_time": "2023-08-01T12:35:26.069272",
     "exception": false,
     "start_time": "2023-08-01T12:35:18.845258",
     "status": "completed"
    },
    "tags": []
   },
   "outputs": [
    {
     "name": "stdout",
     "output_type": "stream",
     "text": [
      "14/14 [==============================] - 6s 24ms/step - loss: 0.0059 - accuracy: 1.0000 - root_mean_squared_error: 0.0070\n"
     ]
    },
    {
     "data": {
      "text/plain": [
       "[0.005921417381614447, 1.0, 0.006997491233050823]"
      ]
     },
     "execution_count": 21,
     "metadata": {},
     "output_type": "execute_result"
    }
   ],
   "source": [
    "tlmodel.evaluate(imgs,tf.one_hot(l,depth=38))"
   ]
  },
  {
   "cell_type": "code",
   "execution_count": 22,
   "id": "414d4e8f",
   "metadata": {
    "execution": {
     "iopub.execute_input": "2023-08-01T12:35:26.828898Z",
     "iopub.status.busy": "2023-08-01T12:35:26.828412Z",
     "iopub.status.idle": "2023-08-01T12:35:28.453379Z",
     "shell.execute_reply": "2023-08-01T12:35:28.452042Z"
    },
    "papermill": {
     "duration": 1.979475,
     "end_time": "2023-08-01T12:35:28.455743",
     "exception": false,
     "start_time": "2023-08-01T12:35:26.476268",
     "status": "completed"
    },
    "tags": []
   },
   "outputs": [
    {
     "name": "stdout",
     "output_type": "stream",
     "text": [
      "14/14 [==============================] - 1s 22ms/step\n",
      "[[423]]\n"
     ]
    }
   ],
   "source": [
    "yPred1=tlmodel.predict(imgs)\n",
    "y_pred1=yPred1\n",
    "y_pred1=np.argmax(y_pred1,axis=1)\n",
    "y_pred1\n",
    "print(confusion_matrix(l,y_pred1))"
   ]
  },
  {
   "cell_type": "code",
   "execution_count": 23,
   "id": "a04d1e7f",
   "metadata": {
    "execution": {
     "iopub.execute_input": "2023-08-01T12:35:29.149237Z",
     "iopub.status.busy": "2023-08-01T12:35:29.148766Z",
     "iopub.status.idle": "2023-08-01T12:35:30.435930Z",
     "shell.execute_reply": "2023-08-01T12:35:30.434512Z"
    },
    "papermill": {
     "duration": 1.633799,
     "end_time": "2023-08-01T12:35:30.438556",
     "exception": false,
     "start_time": "2023-08-01T12:35:28.804757",
     "status": "completed"
    },
    "tags": []
   },
   "outputs": [],
   "source": [
    "tlmodel.save(\"diseaseDetectionModel6.h5\")"
   ]
  },
  {
   "cell_type": "code",
   "execution_count": 24,
   "id": "67a4ff8b",
   "metadata": {
    "execution": {
     "iopub.execute_input": "2023-08-01T12:35:31.126655Z",
     "iopub.status.busy": "2023-08-01T12:35:31.126223Z",
     "iopub.status.idle": "2023-08-01T12:35:31.131254Z",
     "shell.execute_reply": "2023-08-01T12:35:31.129942Z"
    },
    "papermill": {
     "duration": 0.351018,
     "end_time": "2023-08-01T12:35:31.133314",
     "exception": false,
     "start_time": "2023-08-01T12:35:30.782296",
     "status": "completed"
    },
    "tags": []
   },
   "outputs": [],
   "source": [
    "########################################"
   ]
  },
  {
   "cell_type": "code",
   "execution_count": 25,
   "id": "e365f3c0",
   "metadata": {
    "execution": {
     "iopub.execute_input": "2023-08-01T12:35:31.852563Z",
     "iopub.status.busy": "2023-08-01T12:35:31.852098Z",
     "iopub.status.idle": "2023-08-01T12:35:31.856798Z",
     "shell.execute_reply": "2023-08-01T12:35:31.855675Z"
    },
    "papermill": {
     "duration": 0.384045,
     "end_time": "2023-08-01T12:35:31.858876",
     "exception": false,
     "start_time": "2023-08-01T12:35:31.474831",
     "status": "completed"
    },
    "tags": []
   },
   "outputs": [],
   "source": [
    "# tpu = tf.distribute.cluster_resolver.TPUClusterResolver.connect()\n",
    "# tpu_strategy = tf.distribute.experimental.TPUStrategy(tpu)"
   ]
  },
  {
   "cell_type": "code",
   "execution_count": 26,
   "id": "b72e7ab3",
   "metadata": {
    "execution": {
     "iopub.execute_input": "2023-08-01T12:35:32.595325Z",
     "iopub.status.busy": "2023-08-01T12:35:32.594847Z",
     "iopub.status.idle": "2023-08-01T12:35:32.601086Z",
     "shell.execute_reply": "2023-08-01T12:35:32.599764Z"
    },
    "papermill": {
     "duration": 0.384339,
     "end_time": "2023-08-01T12:35:32.603237",
     "exception": false,
     "start_time": "2023-08-01T12:35:32.218898",
     "status": "completed"
    },
    "tags": []
   },
   "outputs": [],
   "source": [
    "# with tpu_strategy.scope():\n",
    "#     model=tf.keras.Sequential([\n",
    "#         tf.keras.layers.Input(shape=(256,256,3),dtype=tf.float32),\n",
    "#         tf.keras.layers.Conv2D(32,(3,3),activation=\"relu\"),\n",
    "#         tf.keras.layers.MaxPooling2D((2,2)),\n",
    "#         tf.keras.layers.Conv2D(64,(3,3),activation=\"relu\"),\n",
    "#         tf.keras.layers.MaxPooling2D((2,2)),\n",
    "#         tf.keras.layers.Conv2D(64,(3,3),activation=\"relu\"),\n",
    "#         tf.keras.layers.MaxPooling2D((2,2)),\n",
    "#         tf.keras.layers.Conv2D(128,(3,3),activation=\"relu\"),\n",
    "#         tf.keras.layers.MaxPooling2D((2,2)),\n",
    "#         tf.keras.layers.Flatten(),\n",
    "#         tf.keras.layers.Dense(128,activation=\"relu\"),\n",
    "#         tf.keras.layers.Dropout(0.2),\n",
    "#         tf.keras.layers.Dense(64,activation=\"relu\"),\n",
    "#         tf.keras.layers.Dropout(0.2),\n",
    "#         tf.keras.layers.Dense(64,activation=\"relu\"),\n",
    "#         tf.keras.layers.Dense(38,activation=\"softmax\")\n",
    "#     ])\n",
    "#     model.compile(optimizer=tf.optimizers.Adam(),loss=tf.losses.CategoricalCrossentropy(),metrics=[\"accuracy\",tf.metrics.RootMeanSquaredError()])"
   ]
  },
  {
   "cell_type": "code",
   "execution_count": 27,
   "id": "76e84237",
   "metadata": {
    "execution": {
     "iopub.execute_input": "2023-08-01T12:35:33.310509Z",
     "iopub.status.busy": "2023-08-01T12:35:33.310046Z",
     "iopub.status.idle": "2023-08-01T12:35:33.315102Z",
     "shell.execute_reply": "2023-08-01T12:35:33.313864Z"
    },
    "papermill": {
     "duration": 0.351172,
     "end_time": "2023-08-01T12:35:33.317244",
     "exception": false,
     "start_time": "2023-08-01T12:35:32.966072",
     "status": "completed"
    },
    "tags": []
   },
   "outputs": [],
   "source": [
    "# model.fit(xTrain,tf.one_hot(yTrain,depth=38),shuffle=True,validation_data=(xTest,tf.one_hot(yTest,depth=38)),epochs=5,batch_size=50)"
   ]
  },
  {
   "cell_type": "code",
   "execution_count": 28,
   "id": "d63181ee",
   "metadata": {
    "execution": {
     "iopub.execute_input": "2023-08-01T12:35:34.090396Z",
     "iopub.status.busy": "2023-08-01T12:35:34.089961Z",
     "iopub.status.idle": "2023-08-01T12:35:34.095083Z",
     "shell.execute_reply": "2023-08-01T12:35:34.093842Z"
    },
    "papermill": {
     "duration": 0.408326,
     "end_time": "2023-08-01T12:35:34.097045",
     "exception": false,
     "start_time": "2023-08-01T12:35:33.688719",
     "status": "completed"
    },
    "tags": []
   },
   "outputs": [],
   "source": [
    "# model.evaluate(xTest,tf.one_hot(yTest,depth=38))"
   ]
  },
  {
   "cell_type": "code",
   "execution_count": 29,
   "id": "5eca5ce4",
   "metadata": {
    "execution": {
     "iopub.execute_input": "2023-08-01T12:35:34.783844Z",
     "iopub.status.busy": "2023-08-01T12:35:34.783048Z",
     "iopub.status.idle": "2023-08-01T12:35:34.787758Z",
     "shell.execute_reply": "2023-08-01T12:35:34.786609Z"
    },
    "papermill": {
     "duration": 0.350432,
     "end_time": "2023-08-01T12:35:34.789732",
     "exception": false,
     "start_time": "2023-08-01T12:35:34.439300",
     "status": "completed"
    },
    "tags": []
   },
   "outputs": [],
   "source": [
    "# yPred=model.predict(xTest)\n",
    "# y_pred=yPred\n",
    "# y_pred=np.argmax(y_pred,axis=1)\n",
    "# y_pred"
   ]
  },
  {
   "cell_type": "code",
   "execution_count": 30,
   "id": "45b083a2",
   "metadata": {
    "execution": {
     "iopub.execute_input": "2023-08-01T12:35:35.476395Z",
     "iopub.status.busy": "2023-08-01T12:35:35.475964Z",
     "iopub.status.idle": "2023-08-01T12:35:35.480929Z",
     "shell.execute_reply": "2023-08-01T12:35:35.479592Z"
    },
    "papermill": {
     "duration": 0.351014,
     "end_time": "2023-08-01T12:35:35.483150",
     "exception": false,
     "start_time": "2023-08-01T12:35:35.132136",
     "status": "completed"
    },
    "tags": []
   },
   "outputs": [],
   "source": [
    "# print(confusion_matrix(yTest,y_pred))"
   ]
  },
  {
   "cell_type": "code",
   "execution_count": 31,
   "id": "f9a1a054",
   "metadata": {
    "execution": {
     "iopub.execute_input": "2023-08-01T12:35:36.199828Z",
     "iopub.status.busy": "2023-08-01T12:35:36.198679Z",
     "iopub.status.idle": "2023-08-01T12:35:36.203764Z",
     "shell.execute_reply": "2023-08-01T12:35:36.202569Z"
    },
    "papermill": {
     "duration": 0.381487,
     "end_time": "2023-08-01T12:35:36.205849",
     "exception": false,
     "start_time": "2023-08-01T12:35:35.824362",
     "status": "completed"
    },
    "tags": []
   },
   "outputs": [],
   "source": [
    "# print(classification_report(yTest,y_pred))"
   ]
  },
  {
   "cell_type": "code",
   "execution_count": 32,
   "id": "618d0ec9",
   "metadata": {
    "execution": {
     "iopub.execute_input": "2023-08-01T12:35:36.907565Z",
     "iopub.status.busy": "2023-08-01T12:35:36.906592Z",
     "iopub.status.idle": "2023-08-01T12:35:36.911243Z",
     "shell.execute_reply": "2023-08-01T12:35:36.910078Z"
    },
    "papermill": {
     "duration": 0.365168,
     "end_time": "2023-08-01T12:35:36.913460",
     "exception": false,
     "start_time": "2023-08-01T12:35:36.548292",
     "status": "completed"
    },
    "tags": []
   },
   "outputs": [],
   "source": [
    "# model.save(\"diseaseDetectionModel6.h5\")"
   ]
  },
  {
   "cell_type": "code",
   "execution_count": 33,
   "id": "a557ee79",
   "metadata": {
    "execution": {
     "iopub.execute_input": "2023-08-01T12:35:37.601893Z",
     "iopub.status.busy": "2023-08-01T12:35:37.600997Z",
     "iopub.status.idle": "2023-08-01T12:35:37.606035Z",
     "shell.execute_reply": "2023-08-01T12:35:37.604790Z"
    },
    "papermill": {
     "duration": 0.352691,
     "end_time": "2023-08-01T12:35:37.608061",
     "exception": false,
     "start_time": "2023-08-01T12:35:37.255370",
     "status": "completed"
    },
    "tags": []
   },
   "outputs": [],
   "source": [
    "# model1-[0.4696655571460724, 0.8680437207221985, 0.0718904659152031]- 5 epochs\n",
    "# model2-[0.4273300468921661, 0.8791396617889404, 0.0691420733928680]- 6 epochs\n",
    "# model3-[0.3548612296581268, 0.9155570864677429, 0.0592657178640365]- 8 epochs\n",
    "# model4-[0.2745216488838196, 0.9171029329299927, 0.0570728741586208]- 5 epochs"
   ]
  },
  {
   "cell_type": "code",
   "execution_count": 34,
   "id": "89ef235a",
   "metadata": {
    "execution": {
     "iopub.execute_input": "2023-08-01T12:35:38.341300Z",
     "iopub.status.busy": "2023-08-01T12:35:38.340767Z",
     "iopub.status.idle": "2023-08-01T12:35:38.345717Z",
     "shell.execute_reply": "2023-08-01T12:35:38.344478Z"
    },
    "papermill": {
     "duration": 0.394488,
     "end_time": "2023-08-01T12:35:38.347870",
     "exception": false,
     "start_time": "2023-08-01T12:35:37.953382",
     "status": "completed"
    },
    "tags": []
   },
   "outputs": [],
   "source": [
    "# model2=tf.keras.models.load_model(\"/kaggle/working/diseaseDetectionModel4.h5\")"
   ]
  },
  {
   "cell_type": "code",
   "execution_count": 35,
   "id": "e6a9ac28",
   "metadata": {
    "execution": {
     "iopub.execute_input": "2023-08-01T12:35:39.141064Z",
     "iopub.status.busy": "2023-08-01T12:35:39.140552Z",
     "iopub.status.idle": "2023-08-01T12:35:39.145429Z",
     "shell.execute_reply": "2023-08-01T12:35:39.144248Z"
    },
    "papermill": {
     "duration": 0.407492,
     "end_time": "2023-08-01T12:35:39.147644",
     "exception": false,
     "start_time": "2023-08-01T12:35:38.740152",
     "status": "completed"
    },
    "tags": []
   },
   "outputs": [],
   "source": [
    "# yPred=model2.predict(xTest)\n",
    "# y_pred=yPred\n",
    "# y_pred=np.argmax(y_pred,axis=1)\n",
    "# y_pred"
   ]
  },
  {
   "cell_type": "code",
   "execution_count": 36,
   "id": "1040c2d1",
   "metadata": {
    "execution": {
     "iopub.execute_input": "2023-08-01T12:35:39.878430Z",
     "iopub.status.busy": "2023-08-01T12:35:39.877628Z",
     "iopub.status.idle": "2023-08-01T12:35:39.882238Z",
     "shell.execute_reply": "2023-08-01T12:35:39.881067Z"
    },
    "papermill": {
     "duration": 0.361673,
     "end_time": "2023-08-01T12:35:39.884261",
     "exception": false,
     "start_time": "2023-08-01T12:35:39.522588",
     "status": "completed"
    },
    "tags": []
   },
   "outputs": [],
   "source": [
    "# print(classification_report(yTest,y_pred))"
   ]
  },
  {
   "cell_type": "code",
   "execution_count": 37,
   "id": "758bb5d8",
   "metadata": {
    "execution": {
     "iopub.execute_input": "2023-08-01T12:35:40.572713Z",
     "iopub.status.busy": "2023-08-01T12:35:40.572247Z",
     "iopub.status.idle": "2023-08-01T12:35:40.579010Z",
     "shell.execute_reply": "2023-08-01T12:35:40.577934Z"
    },
    "papermill": {
     "duration": 0.355763,
     "end_time": "2023-08-01T12:35:40.581120",
     "exception": false,
     "start_time": "2023-08-01T12:35:40.225357",
     "status": "completed"
    },
    "tags": []
   },
   "outputs": [
    {
     "data": {
      "text/plain": [
       "['__notebook__.ipynb', 'diseaseDetectionModel6.h5']"
      ]
     },
     "execution_count": 37,
     "metadata": {},
     "output_type": "execute_result"
    }
   ],
   "source": [
    "p=r'/kaggle/working/'\n",
    "os.listdir(p)"
   ]
  },
  {
   "cell_type": "code",
   "execution_count": 38,
   "id": "64cda586",
   "metadata": {
    "execution": {
     "iopub.execute_input": "2023-08-01T12:35:41.304359Z",
     "iopub.status.busy": "2023-08-01T12:35:41.303934Z",
     "iopub.status.idle": "2023-08-01T12:35:41.728917Z",
     "shell.execute_reply": "2023-08-01T12:35:41.727568Z"
    },
    "papermill": {
     "duration": 0.77301,
     "end_time": "2023-08-01T12:35:41.731500",
     "exception": false,
     "start_time": "2023-08-01T12:35:40.958490",
     "status": "completed"
    },
    "tags": []
   },
   "outputs": [],
   "source": [
    "# path_=r'/kaggle/input/new-plant-diseases-dataset/test/test'\n",
    "# l=[]\n",
    "# # path_=r'/kaggle/input/new-plant-diseases-dataset/New Plant Diseases Dataset(Augmented)/New Plant Diseases Dataset(Augmented)/valid/Grape___healthy'\n",
    "# # cpath=os.path.join(path2,classes[i])\n",
    "# imgs=[]\n",
    "# images=os.listdir(path_)\n",
    "# for im in images:\n",
    "#     imgpath=os.path.join(path_,im)\n",
    "#     img=cv.resize(cv.imread(imgpath),(256,256))\n",
    "# #     print(im)\n",
    "#     imgs.append(img)\n",
    "# #     l.append(2)\n",
    "# #     label.append(classes.index(classes2[i]))\n",
    "# l=[20,20,20,20,13,13,13,31,31,31,29,29,29,29,29,6,6,8,8,8,8,8,8,1,1,1,1,14,14,14,14,14,14]\n",
    "imgs=np.array(imgs)/255"
   ]
  },
  {
   "cell_type": "code",
   "execution_count": 39,
   "id": "3de60e17",
   "metadata": {
    "execution": {
     "iopub.execute_input": "2023-08-01T12:35:42.421165Z",
     "iopub.status.busy": "2023-08-01T12:35:42.420709Z",
     "iopub.status.idle": "2023-08-01T12:35:42.425674Z",
     "shell.execute_reply": "2023-08-01T12:35:42.424538Z"
    },
    "papermill": {
     "duration": 0.352529,
     "end_time": "2023-08-01T12:35:42.427677",
     "exception": false,
     "start_time": "2023-08-01T12:35:42.075148",
     "status": "completed"
    },
    "tags": []
   },
   "outputs": [],
   "source": [
    "# imgs[0]"
   ]
  },
  {
   "cell_type": "code",
   "execution_count": 40,
   "id": "274faf07",
   "metadata": {
    "execution": {
     "iopub.execute_input": "2023-08-01T12:35:43.113864Z",
     "iopub.status.busy": "2023-08-01T12:35:43.112803Z",
     "iopub.status.idle": "2023-08-01T12:35:43.117801Z",
     "shell.execute_reply": "2023-08-01T12:35:43.116531Z"
    },
    "papermill": {
     "duration": 0.350724,
     "end_time": "2023-08-01T12:35:43.119901",
     "exception": false,
     "start_time": "2023-08-01T12:35:42.769177",
     "status": "completed"
    },
    "tags": []
   },
   "outputs": [],
   "source": [
    "# yPred1=model.predict(imgs)\n",
    "# y_pred1=yPred1\n",
    "# y_pred1=np.argmax(y_pred1,axis=1)\n",
    "# y_pred1\n",
    "# print(confusion_matrix(l,y_pred1))"
   ]
  },
  {
   "cell_type": "code",
   "execution_count": 41,
   "id": "36695f9c",
   "metadata": {
    "execution": {
     "iopub.execute_input": "2023-08-01T12:35:43.838511Z",
     "iopub.status.busy": "2023-08-01T12:35:43.838066Z",
     "iopub.status.idle": "2023-08-01T12:35:43.842929Z",
     "shell.execute_reply": "2023-08-01T12:35:43.841652Z"
    },
    "papermill": {
     "duration": 0.382568,
     "end_time": "2023-08-01T12:35:43.844958",
     "exception": false,
     "start_time": "2023-08-01T12:35:43.462390",
     "status": "completed"
    },
    "tags": []
   },
   "outputs": [],
   "source": [
    "# y_pred1"
   ]
  }
 ],
 "metadata": {
  "kernelspec": {
   "display_name": "Python 3",
   "language": "python",
   "name": "python3"
  },
  "language_info": {
   "codemirror_mode": {
    "name": "ipython",
    "version": 3
   },
   "file_extension": ".py",
   "mimetype": "text/x-python",
   "name": "python",
   "nbconvert_exporter": "python",
   "pygments_lexer": "ipython3",
   "version": "3.8.17"
  },
  "papermill": {
   "default_parameters": {},
   "duration": 1232.265984,
   "end_time": "2023-08-01T12:35:50.194175",
   "environment_variables": {},
   "exception": null,
   "input_path": "__notebook__.ipynb",
   "output_path": "__notebook__.ipynb",
   "parameters": {},
   "start_time": "2023-08-01T12:15:17.928191",
   "version": "2.4.0"
  }
 },
 "nbformat": 4,
 "nbformat_minor": 5
}
